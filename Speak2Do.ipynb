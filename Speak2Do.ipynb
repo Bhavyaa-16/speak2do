{
 "cells": [
  {
   "cell_type": "code",
   "execution_count": 1,
   "id": "ea7851ef-9d03-4ec8-b7d3-803fdec51d29",
   "metadata": {},
   "outputs": [
    {
     "name": "stdout",
     "output_type": "stream",
     "text": [
      "Requirement already satisfied: SpeechRecognition in c:\\users\\trrsk\\anaconda3\\lib\\site-packages (3.14.3)\n",
      "Requirement already satisfied: typing-extensions in c:\\users\\trrsk\\anaconda3\\lib\\site-packages (from SpeechRecognition) (4.11.0)\n"
     ]
    }
   ],
   "source": [
    "!pip install SpeechRecognition\n"
   ]
  },
  {
   "cell_type": "code",
   "execution_count": 2,
   "id": "8dfea2cc-73dc-4c39-b21a-1774c710fc81",
   "metadata": {},
   "outputs": [
    {
     "name": "stdout",
     "output_type": "stream",
     "text": [
      "Requirement already satisfied: pyttsx3 in c:\\users\\trrsk\\anaconda3\\lib\\site-packages (2.99)\n",
      "Requirement already satisfied: comtypes in c:\\users\\trrsk\\anaconda3\\lib\\site-packages (from pyttsx3) (1.4.12)\n",
      "Requirement already satisfied: pypiwin32 in c:\\users\\trrsk\\anaconda3\\lib\\site-packages (from pyttsx3) (223)\n",
      "Requirement already satisfied: pywin32 in c:\\users\\trrsk\\anaconda3\\lib\\site-packages (from pyttsx3) (305.1)\n"
     ]
    }
   ],
   "source": [
    "!pip install pyttsx3\n"
   ]
  },
  {
   "cell_type": "code",
   "execution_count": 3,
   "id": "bf5e8d04-0628-4398-b4fd-0414f21aad60",
   "metadata": {},
   "outputs": [
    {
     "name": "stdout",
     "output_type": "stream",
     "text": [
      "Requirement already satisfied: pyautogui in c:\\users\\trrsk\\anaconda3\\lib\\site-packages (0.9.54)\n",
      "Requirement already satisfied: pymsgbox in c:\\users\\trrsk\\anaconda3\\lib\\site-packages (from pyautogui) (1.0.9)\n",
      "Requirement already satisfied: pytweening>=1.0.4 in c:\\users\\trrsk\\anaconda3\\lib\\site-packages (from pyautogui) (1.2.0)\n",
      "Requirement already satisfied: pyscreeze>=0.1.21 in c:\\users\\trrsk\\anaconda3\\lib\\site-packages (from pyautogui) (1.0.1)\n",
      "Requirement already satisfied: pygetwindow>=0.0.5 in c:\\users\\trrsk\\anaconda3\\lib\\site-packages (from pyautogui) (0.0.9)\n",
      "Requirement already satisfied: mouseinfo in c:\\users\\trrsk\\anaconda3\\lib\\site-packages (from pyautogui) (0.1.3)\n",
      "Requirement already satisfied: pyrect in c:\\users\\trrsk\\anaconda3\\lib\\site-packages (from pygetwindow>=0.0.5->pyautogui) (0.2.0)\n",
      "Requirement already satisfied: pyperclip in c:\\users\\trrsk\\anaconda3\\lib\\site-packages (from mouseinfo->pyautogui) (1.9.0)\n"
     ]
    }
   ],
   "source": [
    "!pip install pyautogui\n"
   ]
  },
  {
   "cell_type": "code",
   "execution_count": 5,
   "id": "6e2a069d-8e93-4f26-8805-fa5bfe6adf2f",
   "metadata": {},
   "outputs": [],
   "source": [
    "import speech_recognition as sr\n",
    "import pyttsx3\n",
    "import os\n",
    "import subprocess\n",
    "import webbrowser\n",
    "import pyautogui\n",
    "import psutil"
   ]
  },
  {
   "cell_type": "code",
   "execution_count": 17,
   "id": "28e79574-6652-4947-b34d-0e7dace71d36",
   "metadata": {},
   "outputs": [
    {
     "name": "stdout",
     "output_type": "stream",
     "text": [
      "Collecting pyaudio\n",
      "  Downloading PyAudio-0.2.14-cp312-cp312-win_amd64.whl.metadata (2.7 kB)\n",
      "Downloading PyAudio-0.2.14-cp312-cp312-win_amd64.whl (164 kB)\n",
      "   ---------------------------------------- 0.0/164.1 kB ? eta -:--:--\n",
      "   --------- ----------------------------- 41.0/164.1 kB 991.0 kB/s eta 0:00:01\n",
      "   ---------------------------------------  163.8/164.1 kB 1.6 MB/s eta 0:00:01\n",
      "   ---------------------------------------- 164.1/164.1 kB 1.4 MB/s eta 0:00:00\n",
      "Installing collected packages: pyaudio\n",
      "Successfully installed pyaudio-0.2.14\n"
     ]
    }
   ],
   "source": [
    "!pip install pyaudio\n"
   ]
  },
  {
   "cell_type": "code",
   "execution_count": 19,
   "id": "d060086a-a965-4e1b-b1fb-9ff667aaf3b1",
   "metadata": {},
   "outputs": [
    {
     "name": "stdout",
     "output_type": "stream",
     "text": [
      "Note: you may need to restart the kernel to use updated packages.\n"
     ]
    },
    {
     "name": "stderr",
     "output_type": "stream",
     "text": [
      "WARNING: Requirement 'PyAudio-0.2.11-cp311-cp311-win_amd64.whl' looks like a filename, but the file does not exist\n",
      "ERROR: PyAudio-0.2.11-cp311-cp311-win_amd64.whl is not a supported wheel on this platform.\n"
     ]
    }
   ],
   "source": [
    "pip install PyAudio-0.2.11-cp311-cp311-win_amd64.whl\n"
   ]
  },
  {
   "cell_type": "code",
   "execution_count": null,
   "id": "986ac6fc-704c-4e4d-b49c-fe15bb96e607",
   "metadata": {},
   "outputs": [
    {
     "name": "stdout",
     "output_type": "stream",
     "text": [
      "Listening...\n",
      "User said: listen to kar raha hai bhai\n",
      "Listening...\n",
      "User said: user said listen to kar raha hai bhai\n",
      "Listening...\n",
      "User said: open notebook\n",
      "Listening...\n",
      "User said: bhai vah sun raha hai kuchh kar nahin raha\n",
      "Listening...\n",
      "User said: are maine bola open notebook\n",
      "Listening...\n",
      "User said: main tumhen dikhati hun kya a raha hai\n",
      "Listening...\n",
      "User said: fir main jo bol rahi hun vah a raha hai\n",
      "Listening...\n",
      "User said: open calculator\n",
      "Listening...\n",
      "Listening...\n",
      "User said: goodbye\n",
      "Listening...\n",
      "User said: exit karega na iske bad yah sunta hi rahega meri sari baten\n",
      "Listening...\n",
      "User said: tum exit ka coding likha kya meri baat nahin sunta rahega raat\n",
      "Listening...\n",
      "User said: stop goodbye\n",
      "Listening...\n",
      "User said: are vah sun raha hai vah bahra nahin hai\n",
      "Listening...\n",
      "User said: good bye\n",
      "Listening...\n",
      "User said: exit\n",
      "Listening...\n",
      "User said: achcha volume increase\n",
      "Listening...\n",
      "User said: volume increase\n",
      "Listening...\n",
      "User said: increase volume\n",
      "Listening...\n",
      "User said: increase\n",
      "Listening...\n",
      "User said: ek bari mein 1%\n",
      "Listening...\n",
      "User said: dekha maine run kara diya\n",
      "Listening...\n",
      "Listening...\n",
      "User said: open youtube\n",
      "Listening...\n",
      "User said: are bhai ne youtube khol diya\n",
      "Listening...\n",
      "User said: aur kya ismein feature\n",
      "Listening...\n",
      "Listening...\n",
      "User said: bhej do maine kaha mana kiya\n",
      "Listening...\n",
      "Listening...\n",
      "Listening...\n",
      "User said: abhi main apne linkedin per dalunga\n",
      "Listening...\n",
      "User said: fir tum tumhara mera karne lag gai yahi baat ho gai maine itni der se install kiya hai baith ke 40 ghante se dimag laga\n",
      "Listening...\n"
     ]
    }
   ],
   "source": [
    "\n",
    "engine = pyttsx3.init()\n",
    "engine.setProperty(\"rate\", 185)\n",
    "engine.setProperty(\"volume\", 1.0)\n",
    "def speak(text):\n",
    "    engine.say(text)\n",
    "    engine.runAndWait()\n",
    "def recognize_speech():\n",
    "    recognizer = sr.Recognizer()\n",
    "    with sr.Microphone() as source:\n",
    "        print(\"Listening...\")\n",
    "        recognizer.adjust_for_ambient_noise(source)\n",
    "        try:\n",
    "            audio = recognizer.listen(source, timeout=5)\n",
    "            command = recognizer.recognize_google(audio).lower()\n",
    "            print(f\"User said: {command}\")\n",
    "            return command\n",
    "        except sr.UnknownValueError:\n",
    "            speak(\"I didn't catch that. Can you repeat?\")\n",
    "            return None\n",
    "        except sr.RequestError:\n",
    "            speak(\"Speech recognition service is not available.\")\n",
    "            return None\n",
    "        except sr.WaitTimeoutError:\n",
    "            speak(\"You didn't say anything.\")\n",
    "            return None\n",
    "def execute_command(command):\n",
    "    if command is None:\n",
    "        return\n",
    "    if \"notepad\" in command:\n",
    "        speak(\"Opening Notepad\")\n",
    "        os.system(\"notepad\")\n",
    "\n",
    "    elif \"command prompt\" in command or \"cmd\" in command:\n",
    "        speak(\"Opening Command Prompt\")\n",
    "        os.system(\"start cmd\")\n",
    "\n",
    "    elif \"calculator\" in command:\n",
    "        speak(\"Opening Calculator\")\n",
    "        os.system(\"calc\")\n",
    "\n",
    "    elif \"control panel\" in command:\n",
    "        speak(\"Opening Control Panel\")\n",
    "        os.system(\"control\")\n",
    "\n",
    "    elif \"task manager\" in command:\n",
    "        speak(\"Opening Task Manager\")\n",
    "        os.system(\"taskmgr\")\n",
    "\n",
    "    elif \"youtube\" in command:\n",
    "        speak(\"Opening YouTube\")\n",
    "        webbrowser.open(\"https://www.youtube.com\")\n",
    "\n",
    "    elif \"search google\" in command:\n",
    "        query = command.replace(\"search google\", \"\").strip()\n",
    "        speak(f\"Searching Google for {query}\")\n",
    "        webbrowser.open(f\"https://www.google.com/search?q={query}\")\n",
    "\n",
    "    elif \"search youtube\" in command:\n",
    "        query = command.replace(\"search youtube\", \"\").strip()\n",
    "        speak(f\"Searching YouTube for {query}\")\n",
    "        webbrowser.open(f\"https://www.youtube.com/results?search_query={query}\")\n",
    "\n",
    "    elif \"wikipedia\" in command:\n",
    "        query = command.replace(\"wikipedia\", \"\").strip()\n",
    "        speak(f\"Searching Wikipedia for {query}\")\n",
    "        webbrowser.open(f\"https://en.wikipedia.org/wiki/{query}\")\n",
    "\n",
    "    elif \"shutdown\" in command:\n",
    "        speak(\"Shutting down the system\")\n",
    "        os.system(\"shutdown /s /t 5\")\n",
    "\n",
    "    elif \"restart\" in command:\n",
    "        speak(\"Restarting the system\")\n",
    "        os.system(\"shutdown /r /t 5\")\n",
    "\n",
    "    elif \"lock\" in command:\n",
    "        speak(\"Locking the computer\")\n",
    "        os.system(\"rundll32.exe user32.dll,LockWorkStation\")\n",
    "\n",
    "    elif \"battery\" in command:\n",
    "        battery = psutil.sensors_battery()\n",
    "        percentage = battery.percent\n",
    "        speak(f\"Battery is at {percentage} percent.\")\n",
    "\n",
    "    elif \"cpu\" in command:\n",
    "        usage = psutil.cpu_percent()\n",
    "        speak(f\"Current CPU usage is {usage} percent.\")\n",
    "    elif \"increase volume\" in command:\n",
    "        pyautogui.press(\"volumeup\")\n",
    "        speak(\"Volume increased.\")\n",
    "\n",
    "    elif \"decrease volume\" in command:\n",
    "        pyautogui.press(\"volumedown\")\n",
    "        speak(\"Volume decreased.\")\n",
    "\n",
    "    elif \"mute\" in command:\n",
    "        pyautogui.press(\"volumemute\")\n",
    "        speak(\"Volume muted.\")\n",
    "\n",
    "    elif \"exit\" in command or \"quit\" in command or \"stop\" in command:\n",
    "        speak(\"Goodbye!\")\n",
    "        exit()\n",
    "\n",
    "    else:\n",
    "        speak(\"Sorry, I don't understand that command.\")\n",
    "if __name__ == \"__main__\":\n",
    "    speak(\"Hello, I am your assistant. How can I help you?\")\n",
    "    while True:\n",
    "        user_command = recognize_speech()\n",
    "        execute_command(user_command)"
   ]
  },
  {
   "cell_type": "code",
   "execution_count": null,
   "id": "4a9553c3-27a1-4c1d-9b23-7de4d092d1d3",
   "metadata": {},
   "outputs": [],
   "source": []
  }
 ],
 "metadata": {
  "kernelspec": {
   "display_name": "Python 3 (ipykernel)",
   "language": "python",
   "name": "python3"
  },
  "language_info": {
   "codemirror_mode": {
    "name": "ipython",
    "version": 3
   },
   "file_extension": ".py",
   "mimetype": "text/x-python",
   "name": "python",
   "nbconvert_exporter": "python",
   "pygments_lexer": "ipython3",
   "version": "3.12.4"
  }
 },
 "nbformat": 4,
 "nbformat_minor": 5
}
